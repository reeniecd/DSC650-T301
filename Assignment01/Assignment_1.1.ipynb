{
 "cells": [
  {
   "cell_type": "markdown",
   "metadata": {
    "colab_type": "text",
    "id": "view-in-github"
   },
   "source": [
    "<a href=\"https://colab.research.google.com/github/reeniecd/DSC650-T301/blob/main/Assignment_1_1.ipynb\" target=\"_parent\"><img src=\"https://colab.research.google.com/assets/colab-badge.svg\" alt=\"Open In Colab\"/></a>"
   ]
  },
  {
   "cell_type": "code",
   "execution_count": 2,
   "metadata": {
    "colab": {
     "base_uri": "https://localhost:8080/"
    },
    "id": "i3n7YUjCOoL8",
    "outputId": "b85696fb-a322-4b90-eec5-b281df687b9f"
   },
   "outputs": [
    {
     "name": "stdout",
     "output_type": "stream",
     "text": [
      "Cloning into 'dsc650'...\n",
      "remote: Enumerating objects: 120326, done.\u001b[K\n",
      "remote: Counting objects: 100% (128/128), done.\u001b[K\n",
      "remote: Compressing objects: 100% (50/50), done.\u001b[K\n",
      "remote: Total 120326 (delta 57), reused 98 (delta 46), pack-reused 120198\u001b[K\n",
      "Receiving objects: 100% (120326/120326), 360.60 MiB | 18.21 MiB/s, done.\n",
      "Resolving deltas: 100% (7340/7340), done.\n",
      "Updating files: 100% (114699/114699), done.\n"
     ]
    }
   ],
   "source": [
    "!git clone https://github.com/bellevue-university/dsc650.git"
   ]
  },
  {
   "cell_type": "code",
   "execution_count": 30,
   "metadata": {
    "colab": {
     "base_uri": "https://localhost:8080/"
    },
    "id": "iKsYHbalTZ2I",
    "outputId": "c2395acc-138e-4062-cc37-e0dbcfff099e"
   },
   "outputs": [
    {
     "name": "stdout",
     "output_type": "stream",
     "text": [
      "Model: \"sequential_9\"\n",
      "_________________________________________________________________\n",
      " Layer (type)                Output Shape              Param #   \n",
      "=================================================================\n",
      " dense_27 (Dense)            (None, 512)               401920    \n",
      "                                                                 \n",
      " dropout_18 (Dropout)        (None, 512)               0         \n",
      "                                                                 \n",
      " dense_28 (Dense)            (None, 512)               262656    \n",
      "                                                                 \n",
      " dropout_19 (Dropout)        (None, 512)               0         \n",
      "                                                                 \n",
      " dense_29 (Dense)            (None, 10)                5130      \n",
      "                                                                 \n",
      "=================================================================\n",
      "Total params: 669,706\n",
      "Trainable params: 669,706\n",
      "Non-trainable params: 0\n",
      "_________________________________________________________________\n",
      "Epoch 1/20\n",
      "469/469 [==============================] - 29s 4ms/step - loss: 0.2414 - accuracy: 0.9254 - val_loss: 0.1061 - val_accuracy: 0.9680\n",
      "Epoch 2/20\n",
      "469/469 [==============================] - 2s 4ms/step - loss: 0.1014 - accuracy: 0.9690 - val_loss: 0.0846 - val_accuracy: 0.9741\n",
      "Epoch 3/20\n",
      "469/469 [==============================] - 2s 5ms/step - loss: 0.0738 - accuracy: 0.9776 - val_loss: 0.0692 - val_accuracy: 0.9805\n",
      "Epoch 4/20\n",
      "469/469 [==============================] - 2s 4ms/step - loss: 0.0608 - accuracy: 0.9820 - val_loss: 0.0750 - val_accuracy: 0.9779\n",
      "Epoch 5/20\n",
      "469/469 [==============================] - 2s 4ms/step - loss: 0.0497 - accuracy: 0.9849 - val_loss: 0.0663 - val_accuracy: 0.9825\n",
      "Epoch 6/20\n",
      "469/469 [==============================] - 2s 4ms/step - loss: 0.0426 - accuracy: 0.9872 - val_loss: 0.0788 - val_accuracy: 0.9812\n",
      "Epoch 7/20\n",
      "469/469 [==============================] - 2s 4ms/step - loss: 0.0386 - accuracy: 0.9888 - val_loss: 0.0880 - val_accuracy: 0.9789\n",
      "Epoch 8/20\n",
      "469/469 [==============================] - 2s 4ms/step - loss: 0.0337 - accuracy: 0.9898 - val_loss: 0.0837 - val_accuracy: 0.9817\n",
      "Epoch 9/20\n",
      "469/469 [==============================] - 2s 5ms/step - loss: 0.0295 - accuracy: 0.9908 - val_loss: 0.0974 - val_accuracy: 0.9815\n",
      "Epoch 10/20\n",
      "469/469 [==============================] - 2s 4ms/step - loss: 0.0284 - accuracy: 0.9918 - val_loss: 0.0892 - val_accuracy: 0.9827\n",
      "Epoch 11/20\n",
      "469/469 [==============================] - 2s 4ms/step - loss: 0.0253 - accuracy: 0.9928 - val_loss: 0.0973 - val_accuracy: 0.9821\n",
      "Epoch 12/20\n",
      "469/469 [==============================] - 2s 4ms/step - loss: 0.0236 - accuracy: 0.9927 - val_loss: 0.1039 - val_accuracy: 0.9816\n",
      "Epoch 13/20\n",
      "469/469 [==============================] - 2s 4ms/step - loss: 0.0227 - accuracy: 0.9932 - val_loss: 0.0953 - val_accuracy: 0.9827\n",
      "Epoch 14/20\n",
      "469/469 [==============================] - 2s 4ms/step - loss: 0.0222 - accuracy: 0.9936 - val_loss: 0.0934 - val_accuracy: 0.9851\n",
      "Epoch 15/20\n",
      "469/469 [==============================] - 2s 4ms/step - loss: 0.0216 - accuracy: 0.9942 - val_loss: 0.1037 - val_accuracy: 0.9829\n",
      "Epoch 16/20\n",
      "469/469 [==============================] - 2s 5ms/step - loss: 0.0198 - accuracy: 0.9944 - val_loss: 0.0998 - val_accuracy: 0.9846\n",
      "Epoch 17/20\n",
      "469/469 [==============================] - 2s 4ms/step - loss: 0.0185 - accuracy: 0.9948 - val_loss: 0.1135 - val_accuracy: 0.9842\n",
      "Epoch 18/20\n",
      "469/469 [==============================] - 2s 4ms/step - loss: 0.0183 - accuracy: 0.9951 - val_loss: 0.1177 - val_accuracy: 0.9829\n",
      "Epoch 19/20\n",
      "469/469 [==============================] - 2s 4ms/step - loss: 0.0169 - accuracy: 0.9955 - val_loss: 0.1177 - val_accuracy: 0.9843\n",
      "Epoch 20/20\n",
      "469/469 [==============================] - 2s 4ms/step - loss: 0.0159 - accuracy: 0.9957 - val_loss: 0.1133 - val_accuracy: 0.9824\n"
     ]
    }
   ],
   "source": [
    "from datetime import datetime\n",
    "\n",
    "with open('/content/dsc650/dsc650/assignments/assignment01/logs/keras-mnist.log', 'a') as f:\n",
    "  from tensorflow import keras\n",
    "  from keras.datasets import mnist\n",
    "  from keras.models import Sequential\n",
    "  from keras.layers import Dense, Dropout\n",
    "  from keras.optimizers import RMSprop\n",
    "\n",
    "  batch_size = 128\n",
    "  num_classes = 10\n",
    "  epochs = 20\n",
    "\n",
    "  # the data, split between train and test sets\n",
    "  (x_train, y_train), (x_test, y_test) = mnist.load_data()\n",
    "\n",
    "  x_train = x_train.reshape(60000, 784)\n",
    "  x_test = x_test.reshape(10000, 784)\n",
    "  x_train = x_train.astype('float32')\n",
    "  x_test = x_test.astype('float32')\n",
    "  x_train /= 255\n",
    "  x_test /= 255\n",
    "  f.write(str(x_train.shape[0]))\n",
    "  f.write(str(x_test.shape[0]))\n",
    "\n",
    "  # convert class vectors to binary class matrices\n",
    "  y_train = keras.utils.to_categorical(y_train, num_classes)\n",
    "  y_test = keras.utils.to_categorical(y_test, num_classes)\n",
    "\n",
    "  model = Sequential()\n",
    "  model.add(Dense(512, activation='relu', input_shape=(784,)))\n",
    "  model.add(Dropout(0.2))\n",
    "  model.add(Dense(512, activation='relu'))\n",
    "  model.add(Dropout(0.2))\n",
    "  model.add(Dense(num_classes, activation='softmax'))\n",
    "\n",
    "  model.summary()\n",
    "\n",
    "  model.compile(loss='categorical_crossentropy',\n",
    "              optimizer=RMSprop(),\n",
    "              metrics=['accuracy'])\n",
    "\n",
    "  history = model.fit(x_train, y_train,\n",
    "                    batch_size=batch_size,\n",
    "                    epochs=epochs,\n",
    "                    verbose=1,\n",
    "                    validation_data=(x_test, y_test))\n",
    "  f.write(str(history))\n",
    "  score = model.evaluate(x_test, y_test, verbose=0)\n",
    "  f.write (datetime.now().strftime('%Y-%m-%d %H:%M:%S') + \"\\n\" )\n",
    "  f.write('Test loss :' +  str(score[0]) + \"\\n\")\n",
    "  f.write('Test Accuracy :' + str(score[1]) + \"\\n\")\n",
    "\n"
   ]
  },
  {
   "cell_type": "code",
   "execution_count": 31,
   "metadata": {
    "colab": {
     "base_uri": "https://localhost:8080/"
    },
    "id": "JBVTbDFNpP2A",
    "outputId": "053d5fbb-0472-493b-9938-b9b56e810778"
   },
   "outputs": [
    {
     "name": "stdout",
     "output_type": "stream",
     "text": [
      "Looking in indexes: https://pypi.org/simple, https://us-python.pkg.dev/colab-wheels/public/simple/\n",
      "Collecting pyspark\n",
      "  Downloading pyspark-3.3.2.tar.gz (281.4 MB)\n",
      "\u001b[2K     \u001b[90m━━━━━━━━━━━━━━━━━━━━━━━━━━━━━━━━━━━━━━━\u001b[0m \u001b[32m281.4/281.4 MB\u001b[0m \u001b[31m5.7 MB/s\u001b[0m eta \u001b[36m0:00:00\u001b[0m\n",
      "\u001b[?25h  Preparing metadata (setup.py) ... \u001b[?25l\u001b[?25hdone\n",
      "Collecting py4j==0.10.9.5\n",
      "  Downloading py4j-0.10.9.5-py2.py3-none-any.whl (199 kB)\n",
      "\u001b[2K     \u001b[90m━━━━━━━━━━━━━━━━━━━━━━━━━━━━━━━━━━━━━━\u001b[0m \u001b[32m199.7/199.7 KB\u001b[0m \u001b[31m24.2 MB/s\u001b[0m eta \u001b[36m0:00:00\u001b[0m\n",
      "\u001b[?25hBuilding wheels for collected packages: pyspark\n",
      "  Building wheel for pyspark (setup.py) ... \u001b[?25l\u001b[?25hdone\n",
      "  Created wheel for pyspark: filename=pyspark-3.3.2-py2.py3-none-any.whl size=281824028 sha256=28f8f1c14a74f7caef53ba87aeeb49ae74da0580bba5c1bcfd86b6de750ff0f5\n",
      "  Stored in directory: /root/.cache/pip/wheels/6c/e3/9b/0525ce8a69478916513509d43693511463c6468db0de237c86\n",
      "Successfully built pyspark\n",
      "Installing collected packages: py4j, pyspark\n",
      "  Attempting uninstall: py4j\n",
      "    Found existing installation: py4j 0.10.9.7\n",
      "    Uninstalling py4j-0.10.9.7:\n",
      "      Successfully uninstalled py4j-0.10.9.7\n",
      "Successfully installed py4j-0.10.9.5 pyspark-3.3.2\n"
     ]
    }
   ],
   "source": [
    "!pip install pyspark"
   ]
  },
  {
   "cell_type": "code",
   "execution_count": 32,
   "metadata": {
    "colab": {
     "base_uri": "https://localhost:8080/"
    },
    "id": "Y_yYy-JEo-9Z",
    "outputId": "7b450904-6cda-4d82-ee59-48ee0d333af1"
   },
   "outputs": [
    {
     "name": "stdout",
     "output_type": "stream",
     "text": [
      "Pi is roughly 3.139320\n"
     ]
    }
   ],
   "source": [
    "\n",
    "from datetime import datetime\n",
    "import sys\n",
    "from random import random\n",
    "from operator import add\n",
    "\n",
    "from pyspark.sql import SparkSession\n",
    "\n",
    "\n",
    "\n",
    "if __name__ == \"__main__\":\n",
    "    \"\"\"\n",
    "        Usage: pi [partitions]\n",
    "    \"\"\"\n",
    "    spark = SparkSession\\\n",
    "        .builder\\\n",
    "        .appName(\"PythonPi\")\\\n",
    "        .getOrCreate()\n",
    "\n",
    "    partitions =  2\n",
    "    n = 100000 * partitions\n",
    "\n",
    "    def f(_):\n",
    "        x = random() * 2 - 1\n",
    "        y = random() * 2 - 1\n",
    "        return 1 if x ** 2 + y ** 2 <= 1 else 0\n",
    "\n",
    "    count = spark.sparkContext.parallelize(range(1, n + 1), partitions).map(f).reduce(add)\n",
    "    print(\"Pi is roughly %f\" % (4.0 * count / n))\n",
    "\n",
    "    spark.stop()\n",
    "    with open('/content/dsc650/dsc650/assignments/assignment01/logs/spark-pi.log', 'a') as f:\n",
    "      f.write (datetime.now().strftime('%Y-%m-%d %H:%M:%S') + \"\\n\" )\n",
    "      f.write ('Pi is :' +  str((4.0 * count / n)) + \"\\n\")"
   ]
  },
  {
   "cell_type": "code",
   "execution_count": null,
   "metadata": {
    "id": "kZ0x4J194CtD"
   },
   "outputs": [],
   "source": []
  }
 ],
 "metadata": {
  "accelerator": "GPU",
  "colab": {
   "authorship_tag": "ABX9TyP0PDzl+00F7c00NS6zKcR5",
   "include_colab_link": true,
   "provenance": []
  },
  "gpuClass": "standard",
  "kernelspec": {
   "display_name": "Python 3 (ipykernel)",
   "language": "python",
   "name": "python3"
  },
  "language_info": {
   "codemirror_mode": {
    "name": "ipython",
    "version": 3
   },
   "file_extension": ".py",
   "mimetype": "text/x-python",
   "name": "python",
   "nbconvert_exporter": "python",
   "pygments_lexer": "ipython3",
   "version": "3.9.13"
  }
 },
 "nbformat": 4,
 "nbformat_minor": 1
}
