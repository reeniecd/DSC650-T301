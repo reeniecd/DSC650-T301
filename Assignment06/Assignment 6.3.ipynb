{
 "cells": [
  {
   "cell_type": "code",
   "execution_count": 5,
   "id": "d5ccd39f",
   "metadata": {},
   "outputs": [
    {
     "name": "stdout",
     "output_type": "stream",
     "text": [
      "1/1 [==============================] - 22s 22s/step\n",
      "C:/Users/chris/OneDrive/Desktop/Boots.jpg: cowboy_boot\n",
      "1/1 [==============================] - 10s 10s/step\n",
      "C:/Users/chris/OneDrive/Desktop/Slipper.jpg: knee_pad\n",
      "1/1 [==============================] - 12s 12s/step\n",
      "C:/Users/chris/OneDrive/Desktop/Adidas.jpg: running_shoe\n",
      "1/1 [==============================] - 12s 12s/step\n",
      "C:/Users/chris/OneDrive/Desktop/Nike.jpg: running_shoe\n",
      "1/1 [==============================] - 13s 13s/step\n",
      "C:/Users/chris/OneDrive/Desktop/Ankleboots.jpg: Loafer\n"
     ]
    }
   ],
   "source": [
    "import numpy as np\n",
    "from tensorflow.keras.preprocessing import image\n",
    "from tensorflow.keras.applications.resnet50 import ResNet50, preprocess_input, decode_predictions\n",
    "\n",
    "# Load the ResNet50 model\n",
    "model = ResNet50(weights='imagenet')\n",
    "\n",
    "# Define a function to predict the class of an image\n",
    "def predict_image(image_path):\n",
    "    img = image.load_img(image_path, target_size=(224, 224))\n",
    "    x = image.img_to_array(img)\n",
    "    x = np.expand_dims(x, axis=0)\n",
    "    x = preprocess_input(x)\n",
    "    preds = model.predict(x)\n",
    "    return decode_predictions(preds, top=1)[0][0]\n",
    "\n",
    "# Predict the class of each image and save the results\n",
    "images = ['C:/Users/chris/OneDrive/Desktop/Boots.jpg', 'C:/Users/chris/OneDrive/Desktop/Slipper.jpg', 'C:/Users/chris/OneDrive/Desktop/Adidas.jpg', 'C:/Users/chris/OneDrive/Desktop/Nike.jpg', 'C:/Users/chris/OneDrive/Desktop/Ankleboots.jpg']\n",
    "results = []\n",
    "for image_path in images:\n",
    "    result = predict_image(image_path)\n",
    "    results.append(result)\n",
    "    print(image_path + ': ' + result[1])\n",
    "np.save('dsc650/assignments/assignment06/results/Assignment 6.3', results)\n"
   ]
  },
  {
   "cell_type": "code",
   "execution_count": null,
   "id": "651c1f2e",
   "metadata": {},
   "outputs": [],
   "source": []
  }
 ],
 "metadata": {
  "kernelspec": {
   "display_name": "Python 3 (ipykernel)",
   "language": "python",
   "name": "python3"
  },
  "language_info": {
   "codemirror_mode": {
    "name": "ipython",
    "version": 3
   },
   "file_extension": ".py",
   "mimetype": "text/x-python",
   "name": "python",
   "nbconvert_exporter": "python",
   "pygments_lexer": "ipython3",
   "version": "3.9.13"
  }
 },
 "nbformat": 4,
 "nbformat_minor": 5
}
