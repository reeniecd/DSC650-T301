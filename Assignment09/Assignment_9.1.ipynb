{
 "cells": [
  {
   "cell_type": "code",
   "execution_count": 1,
   "id": "615ddcdc-fc6c-4c3e-b669-57f43977a4fe",
   "metadata": {
    "tags": []
   },
   "outputs": [],
   "source": [
    "import json\n",
    "import uuid\n",
    "\n",
    "from kafka import KafkaProducer, KafkaAdminClient\n",
    "from kafka.admin.new_topic import NewTopic\n",
    "from kafka.errors import TopicAlreadyExistsError\n",
    "\n",
    "import os\n",
    "import pandas as pd\n",
    "import datetime\n",
    "import threading\n",
    "from pathlib import Path\n",
    "import time\n",
    "import s3fs\n",
    "import pyarrow.parquet as pq\n",
    "from collections import namedtuple"
   ]
  },
  {
   "cell_type": "code",
   "execution_count": 2,
   "id": "e1fbb57e-0c22-4b0e-9aac-ab9973b9b6b1",
   "metadata": {
    "tags": []
   },
   "outputs": [
    {
     "name": "stdout",
     "output_type": "stream",
     "text": [
      "{'bootstrap_servers': ['kafka.kafka.svc.cluster.local:9092'], 'first_name': 'Reenie', 'last_name': 'Christudass', 'client_id': 'ChristudassReenie', 'topic_prefix': 'ChristudassReenie'}\n"
     ]
    }
   ],
   "source": [
    "config = dict(\n",
    "    bootstrap_servers=['kafka.kafka.svc.cluster.local:9092'],\n",
    "    first_name='Reenie',\n",
    "    last_name='Christudass'\n",
    ")\n",
    "\n",
    "config['client_id'] = '{}{}'.format(\n",
    "    config['last_name'], \n",
    "    config['first_name']\n",
    ")\n",
    "config['topic_prefix'] = '{}{}'.format(\n",
    "    config['last_name'], \n",
    "    config['first_name']\n",
    ")\n",
    "\n",
    "print(config)"
   ]
  },
  {
   "cell_type": "code",
   "execution_count": 3,
   "id": "db080a99-6d86-493e-b411-1f5fef839454",
   "metadata": {
    "tags": []
   },
   "outputs": [],
   "source": [
    "def create_kafka_topic(topic_name, config=config, num_partitions=1, replication_factor=1):\n",
    "    bootstrap_servers = config['bootstrap_servers']\n",
    "    client_id = config['client_id']\n",
    "    topic_prefix = config['topic_prefix']\n",
    "    name = '{}-{}'.format(topic_prefix, topic_name)\n",
    "    \n",
    "    admin_client = KafkaAdminClient(\n",
    "        bootstrap_servers=bootstrap_servers, \n",
    "        client_id=client_id\n",
    "    )\n",
    "    \n",
    "    topic = NewTopic(\n",
    "        name=name,\n",
    "        num_partitions=num_partitions,\n",
    "        replication_factor=replication_factor\n",
    "    )\n",
    "\n",
    "    topic_list = [topic]\n",
    "    try:\n",
    "        admin_client.create_topics(new_topics=topic_list)\n",
    "        print('Created topic \"{}\"'.format(name))\n",
    "    except TopicAlreadyExistsError as e:\n",
    "        print('Topic \"{}\" already exists'.format(name))"
   ]
  },
  {
   "cell_type": "code",
   "execution_count": 4,
   "id": "631163a7-504f-4e7b-84ba-1c943b1f46e7",
   "metadata": {
    "tags": []
   },
   "outputs": [
    {
     "name": "stdout",
     "output_type": "stream",
     "text": [
      "Topic \"ChristudassReenie-simple\" already exists\n"
     ]
    }
   ],
   "source": [
    "create_kafka_topic('simple')"
   ]
  },
  {
   "cell_type": "code",
   "execution_count": 5,
   "id": "2efb8009-3d6e-4369-ad02-2b165df1cb13",
   "metadata": {
    "tags": []
   },
   "outputs": [
    {
     "name": "stdout",
     "output_type": "stream",
     "text": [
      "['ChristudassReenie-accelerations', 'ChristudassReenie-locations', 'ChristudassReenie-simple']\n"
     ]
    }
   ],
   "source": [
    "from kafka.admin import KafkaAdminClient, NewTopic\n",
    "\n",
    "bootstrap_servers = ['kafka.kafka.svc.cluster.local:9092'] \n",
    "admin_client = KafkaAdminClient(bootstrap_servers=bootstrap_servers, client_id='test')\n",
    "\n",
    "# Get list of all topics\n",
    "all_topics = admin_client.list_topics()\n",
    "\n",
    "keyword = 'Reenie'\n",
    "\n",
    "result = [x for x in all_topics if keyword in x]\n",
    "print(result)"
   ]
  },
  {
   "cell_type": "code",
   "execution_count": 6,
   "id": "86fe482a-67b6-4a1b-a6b7-bdd730766222",
   "metadata": {
    "tags": []
   },
   "outputs": [
    {
     "name": "stdout",
     "output_type": "stream",
     "text": [
      "dsc650/dsc650/assignments/assignment09\n"
     ]
    }
   ],
   "source": [
    "from pathlib import Path\n",
    "current_path = \"dsc650/dsc650/assignments/assignment09\"\n",
    "print(current_path)\n",
    "current_dir = Path(current_path)\n",
    "checkpoint_dir = current_dir.joinpath('checkpoints')\n",
    "locations_checkpoint_dir = checkpoint_dir.joinpath('locations')\n",
    "accelerations_checkpoint_dir = checkpoint_dir.joinpath('accelerations')"
   ]
  },
  {
   "cell_type": "code",
   "execution_count": 14,
   "id": "0ae33690-f119-464a-82ec-13b2cf4e08dd",
   "metadata": {
    "tags": []
   },
   "outputs": [],
   "source": [
    "from pyspark.sql import SparkSession\n",
    "from pyspark.streaming import StreamingContext\n",
    "\n",
    "spark = SparkSession\\\n",
    "    .builder\\\n",
    "    .appName(\"Assignment09\")\\\n",
    "    .getOrCreate()\n",
    "\n",
    "df_locations = spark \\\n",
    "    .readStream \\\n",
    "    .format(\"kafka\") \\\n",
    "    .option(\"kafka.bootstrap.servers\", \"kafka.kafka.svc.cluster.local:9092\") \\\n",
    "    .option(\"subscribe\", \"ChristudassReenie-locations\") \\\n",
    "    .load()\n",
    "\n"
   ]
  },
  {
   "cell_type": "code",
   "execution_count": null,
   "id": "cf152c9e-98c1-4262-aa9f-ef58b4eb9151",
   "metadata": {},
   "outputs": [],
   "source": [
    "loc_query = df_locations.writeStream \\\n",
    "    .format(\"kafka\") \\\n",
    "    .option(\"checkpointLocation\", locations_checkpoint_dir) \\\n",
    "    .option(\"kafka.bootstrap.servers\",  config['bootstrap_servers'][0]) \\\n",
    "    .option(\"topic\", 'ChristudassReenie-simple') \\\n",
    "    .start()\n",
    "\n",
    "loc_query.awaitTermination()"
   ]
  },
  {
   "cell_type": "code",
   "execution_count": null,
   "id": "600c0d68-6227-4f68-a632-295c3463a735",
   "metadata": {},
   "outputs": [],
   "source": []
  }
 ],
 "metadata": {
  "kernelspec": {
   "display_name": "Python 3 (ipykernel)",
   "language": "python",
   "name": "python3"
  },
  "language_info": {
   "codemirror_mode": {
    "name": "ipython",
    "version": 3
   },
   "file_extension": ".py",
   "mimetype": "text/x-python",
   "name": "python",
   "nbconvert_exporter": "python",
   "pygments_lexer": "ipython3",
   "version": "3.10.10"
  }
 },
 "nbformat": 4,
 "nbformat_minor": 5
}
