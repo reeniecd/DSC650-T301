{
 "cells": [
  {
   "cell_type": "markdown",
   "id": "ebc7ebd8",
   "metadata": {},
   "source": [
    "### Assignment 10.1.a"
   ]
  },
  {
   "cell_type": "code",
   "execution_count": 1,
   "id": "25c6b99c",
   "metadata": {},
   "outputs": [],
   "source": [
    "import re\n",
    "\n",
    "def tokenize(sentence):\n",
    "    # Remove basic punctuation using regular expression\n",
    "    sentence = re.sub(r'[^\\w\\s]', '', sentence)\n",
    "\n",
    "    # Split the sentence into words\n",
    "    tokens = sentence.split()\n",
    "\n",
    "    return tokens\n"
   ]
  },
  {
   "cell_type": "code",
   "execution_count": 2,
   "id": "f260ad22",
   "metadata": {},
   "outputs": [
    {
     "name": "stdout",
     "output_type": "stream",
     "text": [
      "['Hello', 'world', 'This', 'is', 'a', 'sample', 'sentence']\n"
     ]
    }
   ],
   "source": [
    "sentence = \"Hello, world! This is a sample sentence.\"\n",
    "tokens = tokenize(sentence)\n",
    "print(tokens)\n"
   ]
  },
  {
   "cell_type": "markdown",
   "id": "60302810",
   "metadata": {},
   "source": [
    "### Assignment 10.1.b"
   ]
  },
  {
   "cell_type": "code",
   "execution_count": 3,
   "id": "b4d5a463",
   "metadata": {},
   "outputs": [],
   "source": [
    "def ngram(tokens, n):\n",
    "    ngrams = []\n",
    "    for i in range(len(tokens) - n + 1):\n",
    "        ngram = tokens[i:i+n]\n",
    "        ngrams.append(ngram)\n",
    "    return ngrams\n"
   ]
  },
  {
   "cell_type": "code",
   "execution_count": 4,
   "id": "1f22b922",
   "metadata": {},
   "outputs": [
    {
     "name": "stdout",
     "output_type": "stream",
     "text": [
      "[['Hello', 'world', 'This'], ['world', 'This', 'is'], ['This', 'is', 'a'], ['is', 'a', 'sample'], ['a', 'sample', 'sentence']]\n"
     ]
    }
   ],
   "source": [
    "tokens = ['Hello', 'world', 'This', 'is', 'a', 'sample', 'sentence']\n",
    "ngrams = ngram(tokens, 3)\n",
    "print(ngrams)\n"
   ]
  },
  {
   "cell_type": "markdown",
   "id": "96a3782e",
   "metadata": {},
   "source": [
    "### Assignment 10.1.c"
   ]
  },
  {
   "cell_type": "code",
   "execution_count": 6,
   "id": "48674ab4",
   "metadata": {},
   "outputs": [],
   "source": [
    "def one_hot_encode(tokens, num_words):\n",
    "    token_index = {}\n",
    "    results = []\n",
    "\n",
    "    for token in tokens:\n",
    "        if token not in token_index:\n",
    "            token_index[token] = len(token_index) + 1\n",
    "\n",
    "    for token in tokens:\n",
    "        token_encoding = [0] * num_words\n",
    "        token_encoding[token_index[token] - 1] = 1\n",
    "        results.append(token_encoding)\n",
    "\n",
    "    return results\n"
   ]
  },
  {
   "cell_type": "code",
   "execution_count": 7,
   "id": "aa5200d3",
   "metadata": {},
   "outputs": [
    {
     "name": "stdout",
     "output_type": "stream",
     "text": [
      "[1, 0, 0, 0, 0, 0, 0]\n",
      "[0, 1, 0, 0, 0, 0, 0]\n",
      "[0, 0, 1, 0, 0, 0, 0]\n",
      "[0, 0, 0, 1, 0, 0, 0]\n",
      "[0, 0, 0, 0, 1, 0, 0]\n",
      "[0, 0, 0, 0, 0, 1, 0]\n",
      "[0, 0, 0, 0, 0, 0, 1]\n"
     ]
    }
   ],
   "source": [
    "tokens = ['Hello', 'world', 'This', 'is', 'a', 'sample', 'sentence']\n",
    "num_words = len(set(tokens))\n",
    "encoded_vectors = one_hot_encode(tokens, num_words)\n",
    "for vector in encoded_vectors:\n",
    "    print(vector)\n"
   ]
  },
  {
   "cell_type": "code",
   "execution_count": null,
   "id": "769341af",
   "metadata": {},
   "outputs": [],
   "source": []
  }
 ],
 "metadata": {
  "kernelspec": {
   "display_name": "Python 3 (ipykernel)",
   "language": "python",
   "name": "python3"
  },
  "language_info": {
   "codemirror_mode": {
    "name": "ipython",
    "version": 3
   },
   "file_extension": ".py",
   "mimetype": "text/x-python",
   "name": "python",
   "nbconvert_exporter": "python",
   "pygments_lexer": "ipython3",
   "version": "3.9.13"
  }
 },
 "nbformat": 4,
 "nbformat_minor": 5
}
