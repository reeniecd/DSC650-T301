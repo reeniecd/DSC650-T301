{
  "nbformat": 4,
  "nbformat_minor": 0,
  "metadata": {
    "colab": {
      "provenance": [],
      "authorship_tag": "ABX9TyMtMXrQBBjLwQ8ZC531rFpI",
      "include_colab_link": true
    },
    "kernelspec": {
      "name": "python3",
      "display_name": "Python 3"
    },
    "language_info": {
      "name": "python"
    }
  },
  "cells": [
    {
      "cell_type": "markdown",
      "metadata": {
        "id": "view-in-github",
        "colab_type": "text"
      },
      "source": [
        "<a href=\"https://colab.research.google.com/github/reeniecd/DSC650-T301/blob/main/Assignment4.ipynb\" target=\"_parent\"><img src=\"https://colab.research.google.com/assets/colab-badge.svg\" alt=\"Open In Colab\"/></a>"
      ]
    },
    {
      "cell_type": "code",
      "execution_count": 1,
      "metadata": {
        "colab": {
          "base_uri": "https://localhost:8080/"
        },
        "id": "inJqMk410mGt",
        "outputId": "bd4114b5-2056-4a4e-a1f2-e0b438456371"
      },
      "outputs": [
        {
          "output_type": "stream",
          "name": "stdout",
          "text": [
            "Cloning into 'dsc650'...\n",
            "remote: Enumerating objects: 120326, done.\u001b[K\n",
            "remote: Counting objects: 100% (128/128), done.\u001b[K\n",
            "remote: Compressing objects: 100% (47/47), done.\u001b[K\n",
            "remote: Total 120326 (delta 54), reused 117 (delta 49), pack-reused 120198\u001b[K\n",
            "Receiving objects: 100% (120326/120326), 360.60 MiB | 16.11 MiB/s, done.\n",
            "Resolving deltas: 100% (7337/7337), done.\n",
            "Updating files: 100% (114699/114699), done.\n"
          ]
        }
      ],
      "source": [
        "!git clone https://github.com/bellevue-university/dsc650.git"
      ]
    },
    {
      "cell_type": "code",
      "source": [
        "import os\n",
        "import json\n",
        "from pathlib import Path\n",
        "path=\"/content/dsc650/dsc650/assignments/assignment04\"\n",
        "os.chdir(path)\n",
        "current_dir = Path(os.getcwd()).absolute()\n",
        "enron_data_dir = \"/content/dsc650/data/external/enron\""
      ],
      "metadata": {
        "id": "O1WV_teQ011n"
      },
      "execution_count": 3,
      "outputs": []
    },
    {
      "cell_type": "code",
      "source": [
        "from pyspark.sql import SparkSession\n",
        "spark = SparkSession\\\n",
        "    .builder\\\n",
        "    .appName(\"Assignment04\")\\\n",
        "    .getOrCreate()"
      ],
      "metadata": {
        "id": "0j2t2T1x2J8p"
      },
      "execution_count": 10,
      "outputs": []
    },
    {
      "cell_type": "markdown",
      "source": [
        "**Assignment 4.1**"
      ],
      "metadata": {
        "id": "GDEX8qai6_-W"
      }
    },
    {
      "cell_type": "code",
      "source": [
        "import pandas as pd\n",
        "from chardet.universaldetector import UniversalDetector\n",
        "from pyspark.sql.types import StructType, StringType, StructField\n",
        "\n",
        "\n",
        "def read_raw_email(email_path):\n",
        "    detector = UniversalDetector()\n",
        "    \n",
        "    try:\n",
        "        with open(email_path) as f:\n",
        "            original_msg = f.read()\n",
        "    except UnicodeDecodeError:\n",
        "        detector.reset()\n",
        "        with open(email_path, 'rb') as f:\n",
        "            for line in f.readlines():\n",
        "                detector.feed(line)\n",
        "                if detector.done:\n",
        "                    break\n",
        "        detector.close()\n",
        "        encoding = detector.result['encoding']\n",
        "        with open(email_path, encoding=encoding) as f:\n",
        "            original_msg = f.read()\n",
        "            \n",
        "    return original_msg \n",
        "\n",
        "def make_spark_df():\n",
        "    records = []\n",
        "    processed_files = set()\n",
        "\n",
        "    for root, dirs, files in os.walk(enron_data_dir):\n",
        "        for file_path in files:\n",
        "            current_path = Path(root).joinpath(file_path)\n",
        "            #print(os.path.join(root, file_path))\n",
        "            if current_path in processed_files:\n",
        "                continue\n",
        "                \n",
        "            processed_files.add(current_path)\n",
        "            \n",
        "            record = {}                \n",
        "            record['id']  = str(current_path.relative_to(enron_data_dir))\n",
        "            record['id'] = record['id'].replace('\\\\', '/')\n",
        "            record['username'] = os.path.basename(os.path.dirname(current_path))\n",
        "            record['og_msg'] = read_raw_email(current_path)\n",
        "            \n",
        "            records.append(record)\n",
        "            ## TODO: Complete the code to code to create the Spark dataframe\n",
        "    schemaString = \"id username og_msg\"\n",
        "    fields = [StructField(field_name, StringType(), True) for field_name in schemaString.split()]\n",
        "    schema = StructType(fields)\n",
        "    return spark.createDataFrame(data=records,schema=schema)\n",
        "\n",
        "df = make_spark_df()"
      ],
      "metadata": {
        "id": "-FzAIUb51Yh1"
      },
      "execution_count": 11,
      "outputs": []
    },
    {
      "cell_type": "code",
      "source": [
        "df.show(10)"
      ],
      "metadata": {
        "id": "jmZHPl2A2X6Y",
        "outputId": "2a375b79-aa28-4987-a9a4-481b0c6788c6",
        "colab": {
          "base_uri": "https://localhost:8080/"
        }
      },
      "execution_count": 12,
      "outputs": [
        {
          "output_type": "stream",
          "name": "stdout",
          "text": [
            "+--------------------+----------+--------------------+\n",
            "|                  id|  username|              og_msg|\n",
            "+--------------------+----------+--------------------+\n",
            "|meyers-a/sent_ite...|sent_items|Message-ID: <2231...|\n",
            "|meyers-a/sent_ite...|sent_items|Message-ID: <1495...|\n",
            "|meyers-a/sent_ite...|sent_items|Message-ID: <1423...|\n",
            "|meyers-a/sent_ite...|sent_items|Message-ID: <4447...|\n",
            "|meyers-a/sent_ite...|sent_items|Message-ID: <1679...|\n",
            "|meyers-a/sent_ite...|sent_items|Message-ID: <4681...|\n",
            "|meyers-a/sent_ite...|sent_items|Message-ID: <1392...|\n",
            "|meyers-a/sent_ite...|sent_items|Message-ID: <2649...|\n",
            "|meyers-a/sent_ite...|sent_items|Message-ID: <2536...|\n",
            "|meyers-a/sent_ite...|sent_items|Message-ID: <3912...|\n",
            "+--------------------+----------+--------------------+\n",
            "only showing top 10 rows\n",
            "\n"
          ]
        }
      ]
    },
    {
      "cell_type": "markdown",
      "source": [
        "Assignment **4.2**"
      ],
      "metadata": {
        "id": "apIsgzHu8FbG"
      }
    },
    {
      "cell_type": "code",
      "source": [
        "plain_msg_example = \"\"\"\n",
        "Message-ID: <6742786.1075845426893.JavaMail.evans@thyme>\n",
        "Date: Thu, 7 Jun 2001 11:05:33 -0700 (PDT)\n",
        "From: jeffrey.hammad@enron.com\n",
        "To: andy.zipper@enron.com\n",
        "Subject: Thanks for the interview\n",
        "Mime-Version: 1.0\n",
        "Content-Type: text/plain; charset=us-ascii\n",
        "Content-Transfer-Encoding: 7bit\n",
        "X-From: Hammad, Jeffrey </O=ENRON/OU=NA/CN=RECIPIENTS/CN=NOTESADDR/CN=CBBE377A-24F58854-862567DD-591AE7>\n",
        "X-To: Zipper, Andy </O=ENRON/OU=NA/CN=RECIPIENTS/CN=AZIPPER>\n",
        "X-cc: \n",
        "X-bcc: \n",
        "X-Folder: \\Zipper, Andy\\Zipper, Andy\\Inbox\n",
        "X-Origin: ZIPPER-A\n",
        "X-FileName: Zipper, Andy.pst\n",
        "\n",
        "Andy,\n",
        "\n",
        "Thanks for giving me the opportunity to meet with you about the Analyst/ Associate program.  I enjoyed talking to you, and look forward to contributing to the success that the program has enjoyed.  \n",
        "\n",
        "Thanks and Best Regards,\n",
        "\n",
        "Jeff Hammad\n",
        "\"\"\"\n",
        "\n",
        "html_msg_example = \"\"\"\n",
        "Message-ID: <21013632.1075862392611.JavaMail.evans@thyme>\n",
        "Date: Mon, 19 Nov 2001 12:15:44 -0800 (PST)\n",
        "From: insynconline.6jy5ympb.d@insync-palm.com\n",
        "To: tstaab@enron.com\n",
        "Subject: Last chance for special offer on Palm OS Upgrade!\n",
        "Mime-Version: 1.0\n",
        "Content-Type: text/plain; charset=us-ascii\n",
        "Content-Transfer-Encoding: 7bit\n",
        "X-From: InSync Online <InSyncOnline.6jy5ympb.d@insync-palm.com>\n",
        "X-To: THERESA STAAB <tstaab@enron.com>\n",
        "X-cc: \n",
        "X-bcc: \n",
        "X-Folder: \\TSTAAB (Non-Privileged)\\Staab, Theresa\\Deleted Items\n",
        "X-Origin: Staab-T\n",
        "X-FileName: TSTAAB (Non-Privileged).pst\n",
        "\n",
        "<html>\n",
        "\n",
        "<html>\n",
        "<head>\n",
        "<title>Paprika</title>\n",
        "<meta http-equiv=\"Content-Type\" content=\"text/html;\">\n",
        "</head>\n",
        "<body bgcolor=\"#FFFFFF\" TEXT=\"#333333\" LINK=\"#336699\" VLINK=\"#6699cc\" ALINK=\"#ff9900\">\n",
        "<table border=\"0\" cellpadding=\"0\" cellspacing=\"0\" width=\"582\">\n",
        "<tr valign=\"top\">\n",
        "  <td width=\"582\" colspan=\"9\"><nobr><a href=\"http://insync-online.p04.com/u.d?BEReaQA5eczXB=1\"><img src=\"http://images4.postdirect.com/master-images/404707/upper_left.gif\" alt=\"\" width=\"103\" height=\"110\" hspace=\"0\" vspace=\"0\" border=\"0\"></a><a href=\"http://insync-online.p04.com/u.d?AkReaQA5eczXE=11\"><img src=\"http://images4.postdirect.com/master-images/404707/upper_right.gif\" alt=\"\" width=\"479\" height=\"110\" hspace=\"0\" vspace=\"0\" border=\"0\"></a></nobr></td>\n",
        "</tr>\n",
        "<tr valign=\"top\">\n",
        "  <td width=\"4\" bgcolor=\"#CCCCCC\"><img src=\"http://images4.postdirect.com/master-images/404707/clear.gif\" width=\"4\" height=\"1\" hspace=\"0\" vspace=\"0\" border=\"0\" alt=\"\"></td>\n",
        "  <td width=\"20\"><img src=\"http://images4.postdirect.com/master-images/404707/clear.gif\" width=\"20\" height=\"1\" hspace=\"0\" vspace=\"0\" border=\"0\" alt=\"\"></td>\n",
        "  <td width=\"165\"><br><a href=\"http://insync-online.p04.com/u.d?LkReaQA5eczXL=21\"><img src=\"http://images4.postdirect.com/master-images/404707/screen1.gif\" alt=\"\" width=\"165\" height=\"159\" hspace=\"0\" vspace=\"0\" border=\"0\"></a><br><img src=\"http://images4.postdirect.com/master-images/404707/screen1_text.gif\" alt=\"\" width=\"93\" height=\"26\" hspace=\"0\" vspace=\"0\" border=\"0\"></td>\n",
        "  <td width=\"20\"><img src=\"http://images4.postdirect.com/master-images/404707/clear.gif\" width=\"20\" height=\"1\" hspace=\"0\" vspace=\"0\" border=\"0\" alt=\"\"></td>\n",
        "  <td width=\"165\"><br><a href=\"http://insync-online.p04.com/u.d?BkReaQA5eczXO=31\"><img src=\"http://images4.postdirect.com/master-images/404707/screen2.gif\" alt=\"\" width=\"165\" height=\"159\" hspace=\"0\" vspace=\"0\" border=\"0\"></a><br><img src=\"http://images4.postdirect.com/master-images/404707/screen2_text.gif\" alt=\"\" width=\"93\" height=\"26\" hspace=\"0\" vspace=\"0\" border=\"0\"></td>\n",
        "  <td width=\"20\"><img src=\"http://images4.postdirect.com/master-images/404707/clear.gif\" width=\"20\" height=\"1\" hspace=\"0\" vspace=\"0\" border=\"0\" alt=\"\"></td>\n",
        "  <td width=\"165\"><br><a href=\"http://insync-online.p04.com/u.d?JkReaQA5eczXRs=41\"><img src=\"http://images4.postdirect.com/master-images/404707/screen3.gif\" alt=\"\" width=\"165\" height=\"159\" hspace=\"0\" vspace=\"0\" border=\"0\"></a><br><img src=\"http://images4.postdirect.com/master-images/404707/screen3_text.gif\" alt=\"\" width=\"93\" height=\"26\" hspace=\"0\" vspace=\"0\" border=\"0\"></td>\n",
        "  <td width=\"19\"><img src=\"http://images4.postdirect.com/master-images/404707/clear.gif\" width=\"19\" height=\"1\" hspace=\"0\" vspace=\"0\" border=\"0\" alt=\"\"></td>\n",
        "  <td width=\"4\" bgcolor=\"#CCCCCC\"><img src=\"http://images4.postdirect.com/master-images/404707/clear.gif\" width=\"4\" height=\"1\" hspace=\"0\" vspace=\"0\" border=\"0\" alt=\"\"></td>\n",
        "</tr>\n",
        "</table>\n",
        "<table border=\"0\" cellpadding=\"0\" cellspacing=\"0\" width=\"582\">\n",
        "<tr valign=\"top\">\n",
        "  <td width=\"4\" bgcolor=\"#CCCCCC\"><img src=\"http://images4.postdirect.com/master-images/404707/clear.gif\" width=\"4\" height=\"1\" hspace=\"0\" vspace=\"0\" border=\"0\" alt=\"\"></td>\n",
        "  <td width=\"574\"><br>\n",
        "    <table border=\"0\" cellpadding=\"0\" cellspacing=\"0\" width=\"574\" bgcolor=\"#99ccff\">\n",
        "    <tr>\n",
        "      <td width=\"50\"><img src=\"http://images4.postdirect.com/master-images/404707/clear.gif\" width=\"50\" height=\"1\" hspace=\"0\" vspace=\"0\" border=\"0\" alt=\"\"></td>\n",
        "      <td width=\"474\"><font face=\"verdana, arial\" size=\"-2\"color=\"#000000\">\n",
        "        <br>\n",
        "        Dear THERESA,\n",
        "        <br><br>\n",
        "        Due to overwhelming demand for the Palm OS&#174; v4.1 Upgrade with Mobile Connectivity, we are \n",
        "        extending the special offer of 25% off through November 30, 2001. So there's still time to significantly \n",
        "        increase the functionality of your Palm&#153; III, IIIx, IIIxe, IIIc, V or Vx handheld. Step up to the \n",
        "        new Palm OS v4.1 through this extended special offer. You'll receive the brand new Palm OS v4.1 \n",
        "        <b>for just $29.95 when you use Promo Code <font color=\"#FF0000\">OS41WAVE</font></b>. That's a \n",
        "        <b>$10 savings</b> off the list price. \n",
        "        <br><br>\n",
        "        <a href=\"http://insync-online.p04.com/u.d?NkReaQA5eczXRh=51\">Click here to view a full product demo now</a>.\n",
        "        <br><br>\n",
        "        <a href=\"http://insync-online.p04.com/u.d?MkReaQA5eczXRm=61\"><img src=\"http://images4.postdirect.com/master-images/404707/title1.gif\" alt=\"\" width=\"336\" height=\"20\" hspace=\"0\" vspace=\"0\" border=\"0\"></a>\n",
        "        <br><br>\n",
        "        You can do a lot more with your Palm&#153; handheld when you upgrade to the Palm OS v4.1. All your \n",
        "        favorite features just got even better and there are some terrific new additions:\n",
        "        <br><br>\n",
        "        <LI> Handwrite notes and even draw pictures right on your Palm&#153 handheld</LI>\n",
        "        <LI> Tap letters with your stylus and use Graffiti&#174; at the same time with the enhanced onscreen keyboard</LI>\n",
        "        <LI> Improved Date Book functionality lets you view, snooze or clear multiple alarms all with a single tap </LI>\n",
        "        <LI> You can easily change time-zone settings</LI>\n",
        "        \n",
        "        <br><br>\n",
        "        <a href=\"http://insync-online.p04.com/u.d?WkReaQA5eczXRb=71\"><img src=\"http://images4.postdirect.com/master-images/404707/title2.gif\" alt=\"\" width=\"460\" height=\"20\" hspace=\"0\" vspace=\"0\" border=\"0\"></a>\n",
        "        <br><br>\n",
        "        <LI> <nobr>Mask/unmask</nobr> private records or hide/unhide directly within the application</LI>\n",
        "        <LI> Lock your device automatically at a designated time using the new Autolocking feature</LI>\n",
        "        <LI> Always remember your password with our new Hint feature*</LI>\n",
        "        \n",
        "        <br><br>\n",
        "        <a href=\"http://insync-online.p04.com/u.d?VEReaQA5eczXRQ=81\"><img src=\"http://images4.postdirect.com/master-images/404707/title3.gif\" alt=\"\" width=\"461\" height=\"31\" hspace=\"0\" vspace=\"0\" border=\"0\"></a>\n",
        "        <br><br>\n",
        "        <LI> Use your GSM compatible mobile phone or modem to get online and access the web</LI>\n",
        "        <LI> Stay connected with email, instant messaging and text messaging to GSM mobile phones</LI>\n",
        "        <LI> Send applications or records through your cell phone to schedule meetings and even \"beam\" \n",
        "             important information to others</LI>\n",
        "        \n",
        "        <br><br>\n",
        "        All this comes in a new operating system that can be yours for just $29.95! <a href=\"http://insync-online.p04.com/u.d?MkReaQA5eczXRV=91\">Click here to \n",
        "        upgrade to the new Palm&#153; OS v4.1</a> and you'll also get the latest Palm desktop software. Or call \n",
        "        <nobr>1-800-881-7256</nobr> to order via phone. \n",
        "        <br><br>\n",
        "        Sincerely,<br>\n",
        "        The Palm Team\n",
        "        <br><br>\n",
        "        P.S. Remember, this extended offer opportunity of 25% savings absolutely ends on November 30, 2001 \n",
        "        and is only available through the Palm Store when you use Promo Code <b><font color=\"#FF0000\">OS41WAVE</font></b>.\n",
        "        <br><br>\n",
        "        <img src=\"http://images4.postdirect.com/master-images/404707/bottom_button.gif\" align=\"right\" alt=\"\" width=\"295\" height=\"60\" hspace=\"0\" vspace=\"0\" border=\"0\">\n",
        "        <br><img src=\"http://images4.postdirect.com/master-images/404707/clear.gif\" width=\"474\" height=\"1\" hspace=\"0\" vspace=\"0\" border=\"0\" alt=\"\">\n",
        "        </font></td>\n",
        "      <td width=\"50\"><img src=\"http://images4.postdirect.com/master-images/404707/clear.gif\" width=\"50\" height=\"1\" hspace=\"0\" vspace=\"0\" border=\"0\" alt=\"\"></td>\n",
        "    </tr>\n",
        "    </table></td>\n",
        "    <td width=\"4\" bgcolor=\"#CCCCCC\"><img src=\"http://images4.postdirect.com/master-images/404707/clear.gif\" width=\"4\" height=\"1\" hspace=\"0\" vspace=\"0\" border=\"0\" alt=\"\"></td>\n",
        "  </tr>\n",
        "  <tr>\n",
        "  <td colspan=\"3\"><img src=\"http://images4.postdirect.com/master-images/404707/bottom.gif\" width=\"582\" height=\"67\" hspace=\"0\" vspace=\"0\" border=\"0\"></td>\n",
        "  </tr>\n",
        "</table>\n",
        "<table border=\"0\" cellpadding=\"0\" cellspacing=\"0\" width=\"582\">\n",
        "  <tr>\n",
        "    <td width=\"54\"><img src=\"http://images4.postdirect.com/master-images/404707/clear.gif\" width=\"54\" height=\"1\" hspace=\"0\" vspace=\"0\" border=\"0\" alt=\"\"></td>\n",
        "    <td width=\"474\"><font face=\"arial, verdana\" size=\"-2\" color=\"#000000\"><br>\n",
        "    * This feature is available on the Palm&#153; IIIx, Palm&#153; IIIxe, and Palm&#153; Vx. <br><br>\n",
        "    ** Note: To use the MIK functionality, you need either a Palm OS&#174; compatible modem or a phone \n",
        "    with  <nobr>built-in</nobr> modem or data capability that has either an infrared port or cable exits.  If you \n",
        "    are using a phone, you must have data services from your mobile service provider.  <a href=\"http://insync-online.p04.com/u.d?RkReaQA5eczXRK=101\">Click here</a> for \n",
        "    a list of tested and supported phones that you can use with the MIK. Cable not provided.\n",
        "    <br><br>\n",
        "    ------------------<br>\n",
        "    To modify your profile or unsubscribe from Palm newsletters, <a href=\"http://insync-online.p04.com/u.d?KkReaQA5eczXRE=121\">click here</a>. \n",
        "    Or, unsubscribe by replying to this message, with \"unsubscribe\" as the subject line of the message. \n",
        "    <br><br>\n",
        "    ------------------<br>\n",
        "    Copyright&#169; 2001 Palm, Inc. Palm OS, Palm Computing, HandFAX, HandSTAMP, HandWEB, Graffiti, \n",
        "    HotSync, iMessenger, MultiMail, Palm.Net, PalmConnect, PalmGlove, PalmModem, PalmPoint, PalmPrint, \n",
        "    and the Palm Platform Compatible Logo are registered trademarks of Palm, Inc. Palm, the Palm logo, \n",
        "    AnyDay, EventClub, HandMAIL, the HotSync Logo, PalmGear, PalmGlove, PalmPix, Palm Powered, the Palm \n",
        "    trade dress, PalmSource, Smartcode, and Simply Palm are trademarks of Palm, Inc. All other brands and \n",
        "    product names may be trademarks or registered trademarks of their respective owners.</font>\n",
        "    <img src=\"http://images4.postdirect.com/master-images/404707/clear.gif\" width=\"474\" height=\"1\" hspace=\"0\" vspace=\"0\" border=\"0\" alt=\"\"></td>\n",
        "    <td width=\"54\"><img src=\"http://images4.postdirect.com/master-images/404707/clear.gif\" width=\"54\" height=\"1\" hspace=\"0\" vspace=\"0\" border=\"0\" alt=\"\"></td>\n",
        "  </tr>\n",
        "</table><br><br><br><br>\n",
        "<!-- The following image is included for message detection -->\n",
        "<img src=\"http://p04.com/1x1.dyn\" border=\"0\" alt=\"\" width=\"1\" height=\"1\">\n",
        "<img src=\"http://p04.com/1x1.dyn?0vEGou8Ig30ba2L2bLn\" width=1 height=1></body>\n",
        "</html>\n",
        "\n",
        "</html>\n",
        "\"\"\"\n",
        "plain_msg_example = plain_msg_example.strip()\n",
        "html_msg_example = html_msg_example.strip()"
      ],
      "metadata": {
        "id": "I9nLgqji2itl"
      },
      "execution_count": 13,
      "outputs": []
    },
    {
      "cell_type": "code",
      "source": [
        "from bs4 import BeautifulSoup\n",
        "from email.parser import Parser\n",
        "from dateutil.parser import parse\n",
        "from collections import namedtuple\n",
        "from email.policy import default"
      ],
      "metadata": {
        "id": "C2YNW3op3uXU"
      },
      "execution_count": 28,
      "outputs": []
    },
    {
      "cell_type": "code",
      "source": [
        "output_columns = [\n",
        "        'payload',\n",
        "        'text',\n",
        "        'Message_D',\n",
        "        'Date',\n",
        "        'From',\n",
        "        'To',\n",
        "        'Subject',\n",
        "        'Mime-Version',\n",
        "        'Content-Type',\n",
        "        'Content-Transfer-Encoding',\n",
        "        'X-From',\n",
        "        'X-To',\n",
        "        'X-cc',\n",
        "        'X-bcc',\n",
        "        'X-Folder',\n",
        "        'X-Origin',\n",
        "        'X-FileName',\n",
        "        'Cc',\n",
        "        'Bcc' \n",
        "]\n",
        "\n",
        "columns = [column.replace('-', '_') for column in output_columns]\n",
        "\n",
        "ParsedEmail = namedtuple('ParsedEmail', columns)"
      ],
      "metadata": {
        "id": "_8DZilhj4cpj"
      },
      "execution_count": 29,
      "outputs": []
    },
    {
      "cell_type": "code",
      "source": [
        "def parse_html_payload(payload):\n",
        "    \"\"\"\n",
        "    This function uses Beautiful Soup to read HTML data\n",
        "    and return the text.  If the payload is plain text, then\n",
        "    Beautiful Soup will return the original content\n",
        "    \"\"\"\n",
        "    soup = BeautifulSoup(payload, 'html.parser')\n",
        "    return str(soup.get_text()).encode('utf-8').decode('utf-8')\n",
        "\n",
        "def parse_email(original_msg):\n",
        "    result = {}\n",
        "    # parse 'original_msg'\n",
        "    msg = Parser(policy=default).parsestr(original_msg)\n",
        "    \n",
        "    ## TODO: Use Python's email library to read the payload and the headers\n",
        "    ## https://docs.python.org/3/library/email.examples.html\n",
        "\n",
        "    # get email body content from parsed 'original_msg'\n",
        "    payload = msg.get_payload()\n",
        "\n",
        "    # extract text from email body 'payload'\n",
        "    result['text'] = parse_html_payload(payload)\n",
        "    \n",
        "    # extract individual parts of email message\n",
        "    for item in msg:\n",
        "        result[item] = msg[item]\n",
        "        \n",
        "    # create and return tuple of parsed email parts\n",
        "    tuple_result = tuple([str(result.get(column, None)) for column in columns])\n",
        "    return ParsedEmail(*tuple_result)"
      ],
      "metadata": {
        "id": "FE83R7qA20rB"
      },
      "execution_count": 30,
      "outputs": []
    },
    {
      "cell_type": "code",
      "source": [
        "print(columns)"
      ],
      "metadata": {
        "id": "P5zRmyfO4_4T",
        "outputId": "630cbaab-ae83-4c77-c0c1-534facba9f18",
        "colab": {
          "base_uri": "https://localhost:8080/"
        }
      },
      "execution_count": 31,
      "outputs": [
        {
          "output_type": "stream",
          "name": "stdout",
          "text": [
            "['payload', 'text', 'Message_D', 'Date', 'From', 'To', 'Subject', 'Mime_Version', 'Content_Type', 'Content_Transfer_Encoding', 'X_From', 'X_To', 'X_cc', 'X_bcc', 'X_Folder', 'X_Origin', 'X_FileName', 'Cc', 'Bcc']\n"
          ]
        }
      ]
    },
    {
      "cell_type": "code",
      "source": [
        "parsed_msg = parse_email(plain_msg_example)"
      ],
      "metadata": {
        "id": "cMayQzj63IAC",
        "outputId": "6f828510-7faa-45e9-da1d-a16fe5c9f972",
        "colab": {
          "base_uri": "https://localhost:8080/"
        }
      },
      "execution_count": 32,
      "outputs": [
        {
          "output_type": "stream",
          "name": "stderr",
          "text": [
            "<ipython-input-30-641fbc64e851>:7: MarkupResemblesLocatorWarning: The input looks more like a filename than markup. You may want to open this file and pass the filehandle into Beautiful Soup.\n",
            "  soup = BeautifulSoup(payload, 'html.parser')\n"
          ]
        }
      ]
    },
    {
      "cell_type": "code",
      "source": [
        "print(parsed_msg.text)"
      ],
      "metadata": {
        "id": "UXYbTA7_5mPq",
        "outputId": "99ea83ad-3615-4ae2-af96-b9aa2aa080d5",
        "colab": {
          "base_uri": "https://localhost:8080/"
        }
      },
      "execution_count": 33,
      "outputs": [
        {
          "output_type": "stream",
          "name": "stdout",
          "text": [
            "Andy,\n",
            "\n",
            "Thanks for giving me the opportunity to meet with you about the Analyst/ Associate program.  I enjoyed talking to you, and look forward to contributing to the success that the program has enjoyed.  \n",
            "\n",
            "Thanks and Best Regards,\n",
            "\n",
            "Jeff Hammad\n"
          ]
        }
      ]
    },
    {
      "cell_type": "code",
      "source": [
        "parsed_html_msg = parse_email(html_msg_example)"
      ],
      "metadata": {
        "id": "c3ptyUt85o6n"
      },
      "execution_count": 34,
      "outputs": []
    },
    {
      "cell_type": "code",
      "source": [
        "print(parsed_html_msg.text)"
      ],
      "metadata": {
        "id": "6SFYtKF75rZC",
        "outputId": "2c6483bf-f3ae-4af1-b72d-8163062e32ae",
        "colab": {
          "base_uri": "https://localhost:8080/"
        }
      },
      "execution_count": 35,
      "outputs": [
        {
          "output_type": "stream",
          "name": "stdout",
          "text": [
            "\n",
            "\n",
            "\n",
            "Paprika\n",
            "\n",
            "\n",
            "\n",
            "\n",
            "\n",
            "\n",
            "\n",
            "\n",
            "\n",
            "\n",
            "\n",
            "\n",
            "\n",
            "\n",
            "\n",
            "\n",
            "\n",
            "\n",
            "\n",
            "\n",
            "\n",
            "\n",
            "\n",
            "\n",
            "\n",
            "\n",
            "\n",
            "\n",
            "        Dear THERESA,\n",
            "        \n",
            "        Due to overwhelming demand for the Palm OS® v4.1 Upgrade with Mobile Connectivity, we are \n",
            "        extending the special offer of 25% off through November 30, 2001. So there's still time to significantly \n",
            "        increase the functionality of your Palm™ III, IIIx, IIIxe, IIIc, V or Vx handheld. Step up to the \n",
            "        new Palm OS v4.1 through this extended special offer. You'll receive the brand new Palm OS v4.1 \n",
            "        for just $29.95 when you use Promo Code OS41WAVE. That's a \n",
            "        $10 savings off the list price. \n",
            "        \n",
            "Click here to view a full product demo now.\n",
            "        \n",
            "\n",
            "\n",
            "        You can do a lot more with your Palm™ handheld when you upgrade to the Palm OS v4.1. All your \n",
            "        favorite features just got even better and there are some terrific new additions:\n",
            "        \n",
            " Handwrite notes and even draw pictures right on your Palm™ handheld\n",
            " Tap letters with your stylus and use Graffiti® at the same time with the enhanced onscreen keyboard\n",
            " Improved Date Book functionality lets you view, snooze or clear multiple alarms all with a single tap \n",
            " You can easily change time-zone settings\n",
            "\n",
            "\n",
            "\n",
            " Mask/unmask private records or hide/unhide directly within the application\n",
            " Lock your device automatically at a designated time using the new Autolocking feature\n",
            " Always remember your password with our new Hint feature*\n",
            "\n",
            "\n",
            "\n",
            " Use your GSM compatible mobile phone or modem to get online and access the web\n",
            " Stay connected with email, instant messaging and text messaging to GSM mobile phones\n",
            " Send applications or records through your cell phone to schedule meetings and even \"beam\" \n",
            "             important information to others\n",
            "\n",
            "        All this comes in a new operating system that can be yours for just $29.95! Click here to \n",
            "        upgrade to the new Palm™ OS v4.1 and you'll also get the latest Palm desktop software. Or call \n",
            "        1-800-881-7256 to order via phone. \n",
            "        \n",
            "        Sincerely,\n",
            "        The Palm Team\n",
            "        \n",
            "        P.S. Remember, this extended offer opportunity of 25% savings absolutely ends on November 30, 2001 \n",
            "        and is only available through the Palm Store when you use Promo Code OS41WAVE.\n",
            "        \n",
            "\n",
            "\n",
            "\n",
            "\n",
            "\n",
            "\n",
            "\n",
            "\n",
            "\n",
            "\n",
            "\n",
            "\n",
            "\n",
            "\n",
            "\n",
            "\n",
            "    * This feature is available on the Palm™ IIIx, Palm™ IIIxe, and Palm™ Vx. \n",
            "    ** Note: To use the MIK functionality, you need either a Palm OS® compatible modem or a phone \n",
            "    with  built-in modem or data capability that has either an infrared port or cable exits.  If you \n",
            "    are using a phone, you must have data services from your mobile service provider.  Click here for \n",
            "    a list of tested and supported phones that you can use with the MIK. Cable not provided.\n",
            "    \n",
            "    ------------------\n",
            "    To modify your profile or unsubscribe from Palm newsletters, click here. \n",
            "    Or, unsubscribe by replying to this message, with \"unsubscribe\" as the subject line of the message. \n",
            "    \n",
            "    ------------------\n",
            "    Copyright© 2001 Palm, Inc. Palm OS, Palm Computing, HandFAX, HandSTAMP, HandWEB, Graffiti, \n",
            "    HotSync, iMessenger, MultiMail, Palm.Net, PalmConnect, PalmGlove, PalmModem, PalmPoint, PalmPrint, \n",
            "    and the Palm Platform Compatible Logo are registered trademarks of Palm, Inc. Palm, the Palm logo, \n",
            "    AnyDay, EventClub, HandMAIL, the HotSync Logo, PalmGear, PalmGlove, PalmPix, Palm Powered, the Palm \n",
            "    trade dress, PalmSource, Smartcode, and Simply Palm are trademarks of Palm, Inc. All other brands and \n",
            "    product names may be trademarks or registered trademarks of their respective owners.\n",
            "\n",
            "\n",
            "\n",
            "\n",
            "\n",
            "\n",
            "\n",
            "\n",
            "\n"
          ]
        }
      ]
    },
    {
      "cell_type": "code",
      "source": [
        "print(parsed_html_msg.Subject)"
      ],
      "metadata": {
        "id": "qQSwKxio5ycG",
        "outputId": "5af32adb-cfc6-4e45-ce71-fc7436dd1b3e",
        "colab": {
          "base_uri": "https://localhost:8080/"
        }
      },
      "execution_count": 36,
      "outputs": [
        {
          "output_type": "stream",
          "name": "stdout",
          "text": [
            "Last chance for special offer on Palm OS Upgrade!\n"
          ]
        }
      ]
    },
    {
      "cell_type": "markdown",
      "source": [
        "**Assignment 4.3**"
      ],
      "metadata": {
        "id": "PN2zKM8y77Uy"
      }
    },
    {
      "cell_type": "code",
      "source": [
        "from chardet.universaldetector import UniversalDetector\n",
        "from pyspark.ml.pipeline import Transformer\n",
        "from pyspark.sql.functions import udf\n",
        "from pyspark.ml.feature import HashingTF, Tokenizer\n",
        "from pyspark.ml import Pipeline\n",
        "from pyspark.ml.feature import CountVectorizer"
      ],
      "metadata": {
        "id": "JetJpOkc5tM2"
      },
      "execution_count": 44,
      "outputs": []
    },
    {
      "cell_type": "code",
      "source": [
        "## This creates a schema for the email data\n",
        "email_struct = StructType()\n",
        "\n",
        "for column in columns:\n",
        "    email_struct.add(column, StringType(), True)"
      ],
      "metadata": {
        "id": "mtICfssU54dX"
      },
      "execution_count": 45,
      "outputs": []
    },
    {
      "cell_type": "code",
      "source": [
        "## This creates a user-defined function which can be used in Spark\n",
        "parse_email_func = udf(lambda z: parse_email(z), email_struct)\n",
        "\n",
        "def parse_emails(input_df):\n",
        "    new_df = input_df.select('username', 'id', 'og_msg', parse_email_func('og_msg').alias('parsed_email'))\n",
        "    for column in columns:\n",
        "        new_df = new_df.withColumn(column, new_df.parsed_email[column])\n",
        "    \n",
        "    new_df = new_df.drop('parsed_email')\n",
        "    return new_df\n",
        "        \n",
        "class ParseEmailsTransformer(Transformer):\n",
        "    def _transform(self, dataset):\n",
        "        \"\"\"\n",
        "        Transforms the input dataset.\n",
        "\n",
        "        :param dataset: input dataset, which is an instance of :py:class:`pyspark.sql.DataFrame`\n",
        "        :returns: transformed dataset\n",
        "        \"\"\"\n",
        "        return dataset.transform(parse_emails)\n",
        "\n",
        "## Use the custom ParseEmailsTransformer, Tokenizer, and CountVectorizer \n",
        "## to create a spark pipeline \n",
        "\n",
        "# set up tokenizer for email text\n",
        "tokenizer = Tokenizer(inputCol=\"text\", outputCol=\"words\")\n",
        "\n",
        "# set up count vectorizer for tokenized words\n",
        "cv = CountVectorizer(inputCol=\"words\", outputCol=\"features\", \n",
        "                     vocabSize=3, minDF=2.0)\n",
        "# cv = CountVectorizer(inputCol=\"words\", outputCol=\"features\")\n",
        "\n",
        "# set up pipline for processing / transforming dataframe\n",
        "email_pipeline = Pipeline(\n",
        "    ## TODO: Complete code\n",
        "    stages=[ParseEmailsTransformer(), tokenizer, cv]\n",
        ")\n",
        "\n",
        "model = email_pipeline.fit(df)\n",
        "result = model.transform(df)"
      ],
      "metadata": {
        "id": "rViQQxRg59lD"
      },
      "execution_count": 47,
      "outputs": []
    },
    {
      "cell_type": "code",
      "source": [
        "result.select('id', 'words', 'features').show()"
      ],
      "metadata": {
        "id": "UssPRavH65u6",
        "outputId": "af4d2785-c2d9-47c8-8e30-be7a372046e7",
        "colab": {
          "base_uri": "https://localhost:8080/"
        }
      },
      "execution_count": 50,
      "outputs": [
        {
          "output_type": "stream",
          "name": "stdout",
          "text": [
            "+--------------------+--------------------+--------------------+\n",
            "|                  id|               words|            features|\n",
            "+--------------------+--------------------+--------------------+\n",
            "|meyers-a/sent_ite...|[, , -----origina...|      (3,[0],[28.0])|\n",
            "|meyers-a/sent_ite...|[tom:, , i, would...|(3,[0,1,2],[33.0,...|\n",
            "|meyers-a/sent_ite...|[bill:, , please,...|(3,[0,1,2],[7.0,6...|\n",
            "|meyers-a/sent_ite...|[kathy:, , please...| (3,[0,1],[7.0,1.0])|\n",
            "|meyers-a/sent_ite...|[tom:, , if, it, ...|(3,[0,1,2],[5.0,1...|\n",
            "|meyers-a/sent_ite...|[tom:, , buffalo,...|       (3,[0],[2.0])|\n",
            "|meyers-a/sent_ite...|[bill:, , for, ye...|(3,[0,1,2],[8.0,6...|\n",
            "|meyers-a/sent_ite...|[tom:, , earlier,...|(3,[0,1,2],[4.0,1...|\n",
            "|meyers-a/sent_ite...|[tom:, , just, wa...|(3,[0,1,2],[19.0,...|\n",
            "|meyers-a/sent_ite...|[bill:, , last, n...|(3,[0,1,2],[3.0,2...|\n",
            "|meyers-a/sent_ite...|[amy,, , please, ...|(3,[0,1,2],[2.0,3...|\n",
            "|meyers-a/deleted_...|[, , start, date:...|      (3,[0],[29.0])|\n",
            "|meyers-a/deleted_...|[, , start, date:...|      (3,[0],[11.0])|\n",
            "|meyers-a/deleted_...|[, , start, date:...|       (3,[0],[9.0])|\n",
            "|meyers-a/deleted_...|[, , start, date:...|      (3,[0],[11.0])|\n",
            "|meyers-a/deleted_...|[fyi, -, , the, s...| (3,[0,1],[9.0,1.0])|\n",
            "|meyers-a/deleted_...|[, , start, date:...|(3,[0,1,2],[72.0,...|\n",
            "|meyers-a/deleted_...|[, , start, date:...|      (3,[0],[11.0])|\n",
            "|meyers-a/deleted_...|[to, whom, it, ma...|(3,[0,1,2],[9.0,7...|\n",
            "|meyers-a/deleted_...|[, , start, date:...|       (3,[0],[3.0])|\n",
            "+--------------------+--------------------+--------------------+\n",
            "only showing top 20 rows\n",
            "\n"
          ]
        }
      ]
    }
  ]
}