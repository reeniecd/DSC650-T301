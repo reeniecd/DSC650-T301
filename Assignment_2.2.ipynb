{
 "cells": [
  {
   "cell_type": "code",
   "execution_count": 5,
   "id": "fc343825",
   "metadata": {},
   "outputs": [],
   "source": [
    "\n",
    "from pathlib import Path\n",
    "import json\n",
    "import os\n",
    "\n",
    "from tinydb import TinyDB\n",
    "\n",
    "\n",
    "class DocumentDB(object):\n",
    "    def __init__(self, db_path):\n",
    "        self._load_db()\n",
    "\n",
    "    # load the individual json files into dict obj\n",
    "    def _load_db(self):\n",
    "        self._load_db()\n",
    "        \n",
    "    def get_value(self, key):\n",
    "        return self._db.get(key)\n",
    "\n",
    "    def set_value(self, key, value):\n",
    "        self._db[key] = value  \n",
    "\n",
    "    def _get_site(self, site_id):\n",
    "        data = json.load(open('C:/Users/chris/DSC650-T301/dsc650/dsc650/assignments/assignment02/results/kvdb/sites.json'))\n",
    "        jtopy=json.dumps(data) #json.dumps take a dictionary as input and returns a string as output.\n",
    "        self._site_lookup=json.loads(jtopy) # json.loads take a string as input and returns a dictionary as output.\n",
    "        self._site_lookup\n",
    "        return self._site_lookup[str(site_id)]\n",
    "    \n",
    "    def _get_measurements(self, person_id):\n",
    "        data = json.load(open('C:/Users/chris/DSC650-T301/dsc650/dsc650/assignments/assignment02/results/kvdb/measurements.json'))\n",
    "        jtopy=json.dumps(data) #json.dumps take a dictionary as input and returns a string as output.\n",
    "        self._measurements_lookup=json.loads(jtopy) # json.loads take a string as input and returns a dictionary as output.\n",
    "        self._measurements_lookup\n",
    "        measurements = []\n",
    "        for values in self._measurements_lookup.values():\n",
    "            if str(values['person_id']) == str(person_id):\n",
    "                measurements.extend([values])\n",
    "        return measurements\n",
    "    \n",
    "    def _get_visit(self, visit_id):\n",
    "        data = json.load(open('C:/Users/chris/DSC650-T301/dsc650/dsc650/assignments/assignment02/results/kvdb/visited.json'))\n",
    "        jtopy=json.dumps(data) #json.dumps take a dictionary as input and returns a string as output.\n",
    "        self._visit_lookup=json.loads(jtopy) # json.loads take a string as input and returns a dictionary as output.\n",
    "        self._visit_lookup\n",
    "        visit = [v for k, v in self._visit_lookup.items() if v['visit_id']==visit_id][0]\n",
    "        site_id = visit['site_id']\n",
    "        site = self._get_site(site_id)\n",
    "        visit['site'] = site\n",
    "        return visit\n",
    "        return visit\n",
    "    \n",
    "    def _load_db(self):\n",
    "        self._db = TinyDB('C:/Users/chris/DSC650-T301/dsc650/dsc650/assignments/assignment02/results/patient-info.json')\n",
    "        data = json.load(open('C:/Users/chris/DSC650-T301/dsc650/dsc650/assignments/assignment02/results/kvdb/people.json'))\n",
    "        jtopy= json.dumps(data) #json.dumps take a dictionary as input and returns a string as output.\n",
    "        self._person_lookup=json.loads(jtopy) # json.loads take a string as input and returns a dictionary as output.\n",
    "        print(self._person_lookup)\n",
    "        persons = self._person_lookup.items()\n",
    "        for person_id, record in persons:\n",
    "            # print('person record',record)\n",
    "            measurements = self._get_measurements(person_id)\n",
    "            visit_ids = set([measurement['visit_id'] for measurement in measurements])\n",
    "            # print('unq vis ids',visit_ids)\n",
    "            visits = []\n",
    "            for visit_id in visit_ids:\n",
    "                visit = self._get_visit(visit_id)\n",
    "                # print('visit lookup',visit)\n",
    "                visit['measurements'] = [measurement for measurement in measurements if visit_id == measurement['visit_id']]\n",
    "                # print('after measuremnts',visit)\n",
    "                visits.append(visit)\n",
    "            record['visits'] = visits\n",
    "            self._db.insert(record)"
   ]
  },
  {
   "cell_type": "code",
   "execution_count": 6,
   "id": "2369e0c1",
   "metadata": {},
   "outputs": [
    {
     "name": "stdout",
     "output_type": "stream",
     "text": [
      "{'danforth': {'person_id': 'danforth', 'personal_name': 'Frank', 'family_name': 'Danforth'}, 'dyer': {'person_id': 'dyer', 'personal_name': 'William', 'family_name': 'Dyer'}, 'lake': {'person_id': 'lake', 'personal_name': 'Anderson', 'family_name': 'Lake'}, 'pb': {'person_id': 'pb', 'personal_name': 'Frank', 'family_name': 'Pabodie'}, 'roe': {'person_id': 'roe', 'personal_name': 'Valentina', 'family_name': 'Roerich'}}\n"
     ]
    }
   ],
   "source": [
    "db = DocumentDB(object)"
   ]
  },
  {
   "cell_type": "code",
   "execution_count": null,
   "id": "17054af6",
   "metadata": {},
   "outputs": [],
   "source": []
  }
 ],
 "metadata": {
  "kernelspec": {
   "display_name": "Python 3 (ipykernel)",
   "language": "python",
   "name": "python3"
  },
  "language_info": {
   "codemirror_mode": {
    "name": "ipython",
    "version": 3
   },
   "file_extension": ".py",
   "mimetype": "text/x-python",
   "name": "python",
   "nbconvert_exporter": "python",
   "pygments_lexer": "ipython3",
   "version": "3.9.13"
  }
 },
 "nbformat": 4,
 "nbformat_minor": 5
}
