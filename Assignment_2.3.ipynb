{
 "cells": [
  {
   "cell_type": "code",
   "execution_count": 37,
   "id": "7ab7aaa5",
   "metadata": {},
   "outputs": [],
   "source": [
    "import json\n",
    "from pathlib import Path\n",
    "import os\n",
    "import pickle\n",
    "import pandas as pd\n",
    "\n",
    "path=\"C:/Users/chris/DSC650-T301/dsc650/dsc650/assignments/assignment02/results\"\n",
    "\n",
    "os.chdir(path)"
   ]
  },
  {
   "cell_type": "code",
   "execution_count": 38,
   "id": "a60e267b",
   "metadata": {},
   "outputs": [
    {
     "data": {
      "text/plain": [
       "WindowsPath('C:/Users/chris/DSC650-T301/dsc650/dsc650/assignments/assignment02/results')"
      ]
     },
     "execution_count": 38,
     "metadata": {},
     "output_type": "execute_result"
    }
   ],
   "source": [
    "current_dir = Path(os.getcwd()).absolute()\n",
    "current_dir"
   ]
  },
  {
   "cell_type": "code",
   "execution_count": 39,
   "id": "09663a44",
   "metadata": {},
   "outputs": [],
   "source": [
    "import sqlite3\n",
    "from sqlite3 import Error\n",
    "import pandas as pd\n",
    "\n",
    "def create_connection(db_file):\n",
    "    \"\"\" create a database connection to the SQLite database\n",
    "        specified by db_file\n",
    "    :param db_file: database file\n",
    "    :return: Connection object or None\n",
    "    \"\"\"\n",
    "    conn = None\n",
    "    try:\n",
    "        conn = sqlite3.connect(db_file)\n",
    "        return conn\n",
    "    except Error as e:\n",
    "        print(e)\n",
    "\n",
    "    return conn"
   ]
  },
  {
   "cell_type": "code",
   "execution_count": 40,
   "id": "3f0efc50",
   "metadata": {},
   "outputs": [],
   "source": [
    "def create_measurements_table(conn):\n",
    "\n",
    "    sql =  \"\"\"  CREATE TABLE IF NOT EXISTS measurements (\n",
    "        visit_id integer NOT NULL,\n",
    "        person_id text NOT NULL,\n",
    "        quantity text,\n",
    "        reading real,\n",
    "        FOREIGN KEY (visit_id) REFERENCES visits (visit_id),\n",
    "        FOREIGN KEY (person_id) REFERENCES people (people_id)\n",
    "        );\"\"\"\n",
    "    \n",
    "\n",
    "    c = conn.cursor()\n",
    "    c.execute(sql)\n",
    "    \n",
    "    \n",
    "def load_measurements_table(conn):\n",
    "    create_measurements_table(conn)\n",
    "    df = pd.read_csv('C:/Users/chris/DSC650-T301/dsc650/data/external/tidynomicon/measurements.csv')\n",
    "    measurements = df.values\n",
    "    print(measurements)\n",
    "\n",
    "    #c = conn.cursor()\n",
    "    #c.execute('DELETE FROM measurements;') # Delete data if exists\n",
    "    #c.executemany('INSERT INTO measurements VALUES (?,?,?,?)', measurements)    \n"
   ]
  },
  {
   "cell_type": "code",
   "execution_count": 42,
   "id": "c68fcf53",
   "metadata": {},
   "outputs": [],
   "source": [
    "def create_people_table(conn):\n",
    "    sql = \"\"\"  CREATE TABLE IF NOT EXISTS measurements (\n",
    "        person_id text NOT NULL,\n",
    "        personal_name text,\n",
    "        family_name text,\n",
    "        FOREIGN KEY (person_id) REFERENCES people (people_id)\n",
    "        );\"\"\"\n",
    "\n",
    "    c = conn.cursor()\n",
    "    c.execute(sql)\n",
    "    \n",
    "def load_people_table(conn):\n",
    "    create_people_table(conn)\n",
    "    df = pd.read_csv('C:/Users/chris/DSC650-T301/dsc650/data/external/tidynomicon/person.csv')\n",
    "    person = df.values\n",
    "    print(person)"
   ]
  },
  {
   "cell_type": "code",
   "execution_count": 43,
   "id": "4998dc9c",
   "metadata": {},
   "outputs": [],
   "source": [
    "def create_sites_table(conn):\n",
    "    sql = \"\"\"\n",
    "    CREATE TABLE IF NOT EXISTS sites (\n",
    "        site_id text PRIMARY KEY,\n",
    "        latitude double NOT NULL,\n",
    "        longitude double NOT NULL\n",
    "        );\n",
    "    \"\"\"\n",
    "\n",
    "    c = conn.cursor()\n",
    "    c.execute(sql)\n",
    "\n",
    "def load_sites_table(conn):\n",
    "    create_sites_table(conn)\n",
    "    df = pd.read_csv('C:/Users/chris/DSC650-T301/dsc650/data/external/tidynomicon/site.csv')\n",
    "    site = df.values\n",
    "    print(site)"
   ]
  },
  {
   "cell_type": "code",
   "execution_count": 44,
   "id": "442ff6e5",
   "metadata": {},
   "outputs": [],
   "source": [
    "\n",
    "def create_visits_table(conn):\n",
    "    sql = \"\"\"\n",
    "    CREATE TABLE IF NOT EXISTS visits (\n",
    "        visit_id integer PRIMARY KEY,\n",
    "        site_id text NOT NULL,\n",
    "        visit_date text,\n",
    "        FOREIGN KEY (site_id) REFERENCES sites (site_id)\n",
    "        );\n",
    "    \"\"\"\n",
    "\n",
    "    c = conn.cursor()\n",
    "    c.execute(sql)\n",
    "\n",
    "def load_visits_table(conn):\n",
    "    create_visits_table(conn)\n",
    "    df = pd.read_csv('C:/Users/chris/DSC650-T301/dsc650/data/external/tidynomicon/visited.csv')\n",
    "    visited = df.values\n",
    "    print(visited)"
   ]
  },
  {
   "cell_type": "code",
   "execution_count": 45,
   "id": "1e8ee144",
   "metadata": {},
   "outputs": [
    {
     "name": "stdout",
     "output_type": "stream",
     "text": [
      "[[619 'dyer' 'rad' 9.82]\n",
      " [619 'dyer' 'sal' 0.13]\n",
      " [622 'dyer' 'rad' 7.8]\n",
      " [622 'dyer' 'sal' 0.09]\n",
      " [734 'pb' 'rad' 8.41]\n",
      " [734 'lake' 'sal' 0.05]\n",
      " [734 'pb' 'temp' -21.5]\n",
      " [735 'pb' 'rad' 7.22]\n",
      " [735 'pb' 'sal' 0.06]\n",
      " [735 'pb' 'temp' -26.0]\n",
      " [751 'pb' 'rad' 4.35]\n",
      " [751 'pb' 'temp' -18.5]\n",
      " [752 'lake' 'rad' 2.19]\n",
      " [752 'lake' 'sal' 0.09]\n",
      " [752 'lake' 'temp' -16.0]\n",
      " [752 'roe' 'sal' 41.6]\n",
      " [837 'lake' 'rad' 1.46]\n",
      " [837 'lake' 'sal' 0.21]\n",
      " [837 'roe' 'sal' 22.5]\n",
      " [844 'roe' 'rad' 11.25]]\n",
      "I am here\n"
     ]
    }
   ],
   "source": [
    "db_path = current_dir.joinpath('C:/Users/chris/DSC650-T301/dsc650/dsc650/assignments/assignment02/results/patient-info.db')\n",
    "conn = sqlite3.connect(str(db_path))\n",
    "\n",
    "load_people_table(conn) \n",
    "load_sites_table(conn)\n",
    "load_visits_table(conn)\n",
    "load_measurements_table(conn)\n",
    "\n",
    "conn.commit()\n",
    "conn.close()"
   ]
  },
  {
   "cell_type": "code",
   "execution_count": null,
   "id": "65a0c59c",
   "metadata": {},
   "outputs": [],
   "source": []
  },
  {
   "cell_type": "code",
   "execution_count": null,
   "id": "bdd2c379",
   "metadata": {},
   "outputs": [],
   "source": []
  }
 ],
 "metadata": {
  "kernelspec": {
   "display_name": "Python 3 (ipykernel)",
   "language": "python",
   "name": "python3"
  },
  "language_info": {
   "codemirror_mode": {
    "name": "ipython",
    "version": 3
   },
   "file_extension": ".py",
   "mimetype": "text/x-python",
   "name": "python",
   "nbconvert_exporter": "python",
   "pygments_lexer": "ipython3",
   "version": "3.9.13"
  }
 },
 "nbformat": 4,
 "nbformat_minor": 5
}
