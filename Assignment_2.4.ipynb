{
 "cells": [
  {
   "cell_type": "code",
   "execution_count": null,
   "id": "35e153e1",
   "metadata": {},
   "outputs": [],
   "source": [
    "SELECT ?date  ?event  ?eventLabel\n",
    " WHERE\n",
    " {\n",
    "    # find events\n",
    "    ?event wdt:P31/wdt:P279* wd:Q1190554.\n",
    "    # with a point in time or start date\n",
    "    OPTIONAL { ?event wdt:P585 ?date. }\n",
    "    OPTIONAL { ?event wdt:P580 ?date. }\n",
    "    # but at least one of those\n",
    "    FILTER(BOUND(?date) && DATATYPE(?date) = xsd:dateTime).\n",
    "    # not in the future, and not more than 31 days ago\n",
    "    BIND(NOW() - ?date AS ?distance).\n",
    "    FILTER(0 <= ?distance && ?distance < 31).\n",
    "    # and get a label as well\n",
    "    OPTIONAL {\n",
    "        ?event rdfs:label ?eventLabel.\n",
    "        FILTER(LANG(?eventLabel) = \"en\").\n",
    "    }\n",
    " }\n",
    "# limit to 10 results so we don't timeout\n",
    " LIMIT 10"
   ]
  }
 ],
 "metadata": {
  "kernelspec": {
   "display_name": "Python 3 (ipykernel)",
   "language": "python",
   "name": "python3"
  },
  "language_info": {
   "codemirror_mode": {
    "name": "ipython",
    "version": 3
   },
   "file_extension": ".py",
   "mimetype": "text/x-python",
   "name": "python",
   "nbconvert_exporter": "python",
   "pygments_lexer": "ipython3",
   "version": "3.9.13"
  }
 },
 "nbformat": 4,
 "nbformat_minor": 5
}
